{
 "cells": [
  {
   "cell_type": "code",
   "execution_count": 1,
   "id": "864de4e6",
   "metadata": {
    "execution": {
     "iopub.execute_input": "2024-07-30T15:34:43.334951Z",
     "iopub.status.busy": "2024-07-30T15:34:43.334553Z",
     "iopub.status.idle": "2024-07-30T15:34:43.343557Z",
     "shell.execute_reply": "2024-07-30T15:34:43.341916Z"
    },
    "papermill": {
     "duration": 0.016388,
     "end_time": "2024-07-30T15:34:43.346822",
     "exception": false,
     "start_time": "2024-07-30T15:34:43.330434",
     "status": "completed"
    },
    "tags": []
   },
   "outputs": [],
   "source": [
    "#pip install torch torchvision torchaudio\n"
   ]
  },
  {
   "cell_type": "code",
   "execution_count": 2,
   "id": "3578a497",
   "metadata": {
    "execution": {
     "iopub.execute_input": "2024-07-30T15:34:43.352874Z",
     "iopub.status.busy": "2024-07-30T15:34:43.352461Z",
     "iopub.status.idle": "2024-07-30T15:34:47.638879Z",
     "shell.execute_reply": "2024-07-30T15:34:47.637147Z"
    },
    "papermill": {
     "duration": 4.292939,
     "end_time": "2024-07-30T15:34:47.642128",
     "exception": false,
     "start_time": "2024-07-30T15:34:43.349189",
     "status": "completed"
    },
    "tags": []
   },
   "outputs": [
    {
     "name": "stdout",
     "output_type": "stream",
     "text": [
      "CUDA available:  False\n",
      "CUDA version:  None\n",
      "PyTorch version:  2.1.2+cpu\n"
     ]
    }
   ],
   "source": [
    "import torch\n",
    "print(\"CUDA available: \", torch.cuda.is_available())\n",
    "print(\"CUDA version: \", torch.version.cuda)\n",
    "print(\"PyTorch version: \", torch.__version__)\n"
   ]
  },
  {
   "cell_type": "code",
   "execution_count": 3,
   "id": "0f644940",
   "metadata": {
    "execution": {
     "iopub.execute_input": "2024-07-30T15:34:47.648714Z",
     "iopub.status.busy": "2024-07-30T15:34:47.648239Z",
     "iopub.status.idle": "2024-07-30T15:34:47.771944Z",
     "shell.execute_reply": "2024-07-30T15:34:47.770217Z"
    },
    "papermill": {
     "duration": 0.130458,
     "end_time": "2024-07-30T15:34:47.774932",
     "exception": false,
     "start_time": "2024-07-30T15:34:47.644474",
     "status": "completed"
    },
    "tags": []
   },
   "outputs": [
    {
     "name": "stdout",
     "output_type": "stream",
     "text": [
      "Tensor on CPU:\n",
      "tensor([[0.4061, 0.5053, 0.4098],\n",
      "        [0.6155, 0.3015, 0.3350],\n",
      "        [0.1088, 0.3461, 0.1571]])\n"
     ]
    }
   ],
   "source": [
    "import torch\n",
    "\n",
    "x = torch.rand(3, 3)\n",
    "print(\"Tensor on CPU:\")\n",
    "print(x)\n",
    "\n",
    "if torch.cuda.is_available():\n",
    "    x = x.to('cuda')\n",
    "    print(\"Tensor on GPU:\")\n",
    "    print(x)\n"
   ]
  }
 ],
 "metadata": {
  "kaggle": {
   "accelerator": "none",
   "dataSources": [],
   "dockerImageVersionId": 30746,
   "isGpuEnabled": false,
   "isInternetEnabled": false,
   "language": "python",
   "sourceType": "notebook"
  },
  "kernelspec": {
   "display_name": "Python 3",
   "language": "python",
   "name": "python3"
  },
  "language_info": {
   "codemirror_mode": {
    "name": "ipython",
    "version": 3
   },
   "file_extension": ".py",
   "mimetype": "text/x-python",
   "name": "python",
   "nbconvert_exporter": "python",
   "pygments_lexer": "ipython3",
   "version": "3.10.13"
  },
  "papermill": {
   "default_parameters": {},
   "duration": 8.86167,
   "end_time": "2024-07-30T15:34:48.903875",
   "environment_variables": {},
   "exception": null,
   "input_path": "__notebook__.ipynb",
   "output_path": "__notebook__.ipynb",
   "parameters": {},
   "start_time": "2024-07-30T15:34:40.042205",
   "version": "2.5.0"
  }
 },
 "nbformat": 4,
 "nbformat_minor": 5
}
